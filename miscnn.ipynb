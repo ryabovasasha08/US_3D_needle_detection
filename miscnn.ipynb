{
 "cells": [
  {
   "cell_type": "markdown",
   "metadata": {},
   "source": [
    "## Create I/O Data"
   ]
  },
  {
   "cell_type": "code",
   "execution_count": 1,
   "metadata": {},
   "outputs": [
    {
     "data": {
      "text/plain": [
       "110"
      ]
     },
     "execution_count": 1,
     "metadata": {},
     "output_type": "execute_result"
    }
   ],
   "source": [
    "from utils.labels_utils import get_all_files_mhd\n",
    "all_files_mhd = get_all_files_mhd(\"/data/Riabova/train/train_depth_0_70/\")\n",
    "len(all_files_mhd)"
   ]
  },
  {
   "cell_type": "code",
   "execution_count": 2,
   "metadata": {},
   "outputs": [
    {
     "name": "stdout",
     "output_type": "stream",
     "text": [
      "File 0...\n",
      "File 20...\n",
      "File 40...\n",
      "File 60...\n",
      "File 80...\n",
      "File 100...\n"
     ]
    }
   ],
   "source": [
    "from utils.type_reader import mha_read_header\n",
    "from utils.labels_utils import get_labels\n",
    "import numpy as np\n",
    "from tqdm import tqdm\n",
    "\n",
    "# merge all images in one huge array\n",
    "\n",
    "all_frames_filenames_array = np.empty((1))\n",
    "frame_nums = np.empty((1))\n",
    "labels = np.empty((1, 3))\n",
    "i = 0\n",
    "for f in all_files_mhd:\n",
    "    if (i%20 == 0):\n",
    "        print(\"File \"+str(i)+\"...\")\n",
    "    info = mha_read_header(f)\n",
    "    \n",
    "    # only leave frames with z = [5, ..., 8] and only frames 5-40\n",
    "    # start_frame = 5\n",
    "    # to_frame = 40\n",
    "    # step_frame = 5\n",
    "    \n",
    "    filename = f.split(\"/\")[-1].split(\".\")[0]\n",
    "    filename_params = filename.split('_')\n",
    "    z = int(filename_params[2])\n",
    "    if (z > 8):\n",
    "        continue\n",
    "    \n",
    "    new_labels = get_labels(f, info)\n",
    "    # labels = np.concatenate((labels, new_labels[start_frame:to_frame:step_frame, :]), axis = 0)\n",
    "    labels = np.concatenate((labels, new_labels), axis = 0)\n",
    "    # all_frames_filenames_array = np.concatenate((all_frames_filenames_array, [f]*int((to_frame-start_frame)/step_frame)), axis=0) \n",
    "    all_frames_filenames_array = np.concatenate((all_frames_filenames_array, [f]*info['Dimensions'][3]), axis=0)\n",
    "    # frame_nums = np.concatenate((frame_nums, np.arange(start_frame, to_frame, step_frame)), axis=0)\n",
    "    frame_nums = np.concatenate((frame_nums, np.arange(0, info['Dimensions'][3])), axis=0)\n",
    "\n",
    "    i+=1\n",
    "    \n",
    "all_frames_filenames_array = all_frames_filenames_array[ 1:]\n",
    "labels = labels[1:, :]\n",
    "frame_nums = frame_nums[1:]"
   ]
  },
  {
   "cell_type": "code",
   "execution_count": 3,
   "metadata": {},
   "outputs": [
    {
     "name": "stdout",
     "output_type": "stream",
     "text": [
      "['/data/Riabova/train/train_depth_0_70/10_0_-3_0_0_0_4_2_1689851213927661.mhd'\n",
      " '0.0']\n",
      "[ 99.57817325 109.4948     125.6625    ]\n"
     ]
    }
   ],
   "source": [
    "X = np.vstack((all_frames_filenames_array, frame_nums)).transpose()\n",
    "y = labels\n",
    "print(X[0, :])\n",
    "print(y[0, :])"
   ]
  },
  {
   "cell_type": "code",
   "execution_count": 5,
   "metadata": {},
   "outputs": [
    {
     "data": {
      "text/plain": [
       "2356"
      ]
     },
     "execution_count": 5,
     "metadata": {},
     "output_type": "execute_result"
    }
   ],
   "source": [
    "y.shape[0]"
   ]
  },
  {
   "cell_type": "code",
   "execution_count": 4,
   "metadata": {},
   "outputs": [
    {
     "name": "stderr",
     "output_type": "stream",
     "text": [
      "100%|██████████| 20/20 [00:34<00:00,  1.71s/it]\n"
     ]
    }
   ],
   "source": [
    "from miscnn.data_loading.interfaces import Dictionary_interface\n",
    "from utils.ImageDataset import getDatapointResized\n",
    "from miscnn import Data_IO\n",
    "import numpy as np\n",
    "from tqdm import tqdm\n",
    "\n",
    "# Create data set (grayscale image with binary mask)\n",
    "dataset3D = dict()\n",
    "for i in tqdm(range(0, 20)): # range(0, y.shape[0]):\n",
    "    img, mask, us_tip_coords_resized = getDatapointResized(X[i, 0], int(float(X[i, 1])), y[i], mask_diam=3, resizeTo=128)\n",
    "    dataset3D[\"TEST.sample_\" + str(i)] = (img, mask)\n",
    "    \n",
    "# Initialize Dictionary IO Interface\n",
    "io_interface3D = Dictionary_interface(dataset3D, channels = 1, classes=2, three_dim=True)\n",
    "\n",
    "# Create the Data I/O object\n",
    "data_io = Data_IO(io_interface3D, input_path=\"\")"
   ]
  },
  {
   "cell_type": "markdown",
   "metadata": {},
   "source": [
    "### Explore Data_IO"
   ]
  },
  {
   "cell_type": "code",
   "execution_count": 5,
   "metadata": {},
   "outputs": [],
   "source": [
    "import matplotlib.pyplot as plt\n",
    "import numpy as np\n",
    "\n",
    "# Load the first sample via MIScnn data loader\n",
    "sample_list = data_io.get_indiceslist()\n",
    "sample_test = data_io.sample_loader(sample_list[0], load_seg=True)"
   ]
  },
  {
   "cell_type": "code",
   "execution_count": 6,
   "metadata": {},
   "outputs": [
    {
     "name": "stderr",
     "output_type": "stream",
     "text": [
      "/data/Riabova/masterarbeit/data/Riabova/miniconda3/envs/masterarbeit/lib/python3.7/site-packages/numpy/core/fromnumeric.py:3373: RuntimeWarning: Mean of empty slice.\n",
      "  out=out, **kwargs)\n",
      "/data/Riabova/masterarbeit/data/Riabova/miniconda3/envs/masterarbeit/lib/python3.7/site-packages/numpy/core/_methods.py:170: RuntimeWarning: invalid value encountered in double_scalars\n",
      "  ret = ret.dtype.type(ret / rcount)\n"
     ]
    },
    {
     "ename": "ValueError",
     "evalue": "cannot convert float NaN to integer",
     "output_type": "error",
     "traceback": [
      "\u001b[0;31m---------------------------------------------------------------------------\u001b[0m",
      "\u001b[0;31mValueError\u001b[0m                                Traceback (most recent call last)",
      "\u001b[0;32m<ipython-input-6-7ef598967a43>\u001b[0m in \u001b[0;36m<module>\u001b[0;34m\u001b[0m\n\u001b[1;32m      1\u001b[0m \u001b[0;31m# Get the index of the needle tip and plot in this plane\u001b[0m\u001b[0;34m\u001b[0m\u001b[0;34m\u001b[0m\u001b[0;34m\u001b[0m\u001b[0m\n\u001b[1;32m      2\u001b[0m \u001b[0mnz_indices\u001b[0m \u001b[0;34m=\u001b[0m \u001b[0mnp\u001b[0m\u001b[0;34m.\u001b[0m\u001b[0mnonzero\u001b[0m\u001b[0;34m(\u001b[0m\u001b[0msample_test\u001b[0m\u001b[0;34m.\u001b[0m\u001b[0mseg_data\u001b[0m\u001b[0;34m[\u001b[0m\u001b[0;34m:\u001b[0m\u001b[0;34m,\u001b[0m \u001b[0;34m:\u001b[0m\u001b[0;34m,\u001b[0m \u001b[0;34m:\u001b[0m\u001b[0;34m,\u001b[0m \u001b[0;36m0\u001b[0m\u001b[0;34m]\u001b[0m\u001b[0;34m)\u001b[0m\u001b[0;34m\u001b[0m\u001b[0;34m\u001b[0m\u001b[0m\n\u001b[0;32m----> 3\u001b[0;31m \u001b[0mz_mean\u001b[0m \u001b[0;34m=\u001b[0m \u001b[0mint\u001b[0m\u001b[0;34m(\u001b[0m\u001b[0mnp\u001b[0m\u001b[0;34m.\u001b[0m\u001b[0mmean\u001b[0m\u001b[0;34m(\u001b[0m\u001b[0mnz_indices\u001b[0m\u001b[0;34m[\u001b[0m\u001b[0;36m2\u001b[0m\u001b[0;34m]\u001b[0m\u001b[0;34m)\u001b[0m\u001b[0;34m)\u001b[0m\u001b[0;34m\u001b[0m\u001b[0;34m\u001b[0m\u001b[0m\n\u001b[0m",
      "\u001b[0;31mValueError\u001b[0m: cannot convert float NaN to integer"
     ]
    }
   ],
   "source": [
    "# Get the index of the needle tip and plot in this plane\n",
    "nz_indices = np.nonzero(sample_test.seg_data[:, :, :, 0])\n",
    "z_mean = int(np.mean(nz_indices[2]))"
   ]
  },
  {
   "cell_type": "code",
   "execution_count": 8,
   "metadata": {},
   "outputs": [
    {
     "name": "stdout",
     "output_type": "stream",
     "text": [
      "Shape of image: (128, 128, 128, 1)\n"
     ]
    },
    {
     "data": {
      "text/plain": [
       "<matplotlib.image.AxesImage at 0x7f492a83b7d0>"
      ]
     },
     "execution_count": 8,
     "metadata": {},
     "output_type": "execute_result"
    },
    {
     "data": {
      "image/png": "[encoded data removed]",
      "text/plain": [
       "<Figure size 432x288 with 1 Axes>"
      ]
     },
     "metadata": {
      "needs_background": "light"
     },
     "output_type": "display_data"
    }
   ],
   "source": [
    "# Visualize the image\n",
    "img_data = sample_test.img_data\n",
    "print(\"Shape of image:\", img_data.shape)\n",
    "plt.imshow(img_data[:, :, z_mean, 0])"
   ]
  },
  {
   "cell_type": "code",
   "execution_count": 9,
   "metadata": {},
   "outputs": [
    {
     "name": "stdout",
     "output_type": "stream",
     "text": [
      "Shape of segmentation: (128, 128, 128, 1)\n"
     ]
    },
    {
     "data": {
      "text/plain": [
       "<matplotlib.image.AxesImage at 0x7f492a798990>"
      ]
     },
     "execution_count": 9,
     "metadata": {},
     "output_type": "execute_result"
    },
    {
     "data": {
      "image/png": "[encoded data removed]",
      "text/plain": [
       "<Figure size 432x288 with 1 Axes>"
      ]
     },
     "metadata": {
      "needs_background": "light"
     },
     "output_type": "display_data"
    }
   ],
   "source": [
    "# Visualize the ground truth segmentation\n",
    "seg_data = sample_test.seg_data * 255\n",
    "print(\"Shape of segmentation:\", seg_data.shape)\n",
    "plt.imshow(seg_data[:, :, z_mean, 0])"
   ]
  },
  {
   "cell_type": "markdown",
   "metadata": {},
   "source": [
    "### Preprocess Data_IO an feed to network"
   ]
  },
  {
   "cell_type": "code",
   "execution_count": 10,
   "metadata": {},
   "outputs": [
    {
     "name": "stderr",
     "output_type": "stream",
     "text": [
      "/home/Riabova/miniconda3/envs/masterarbeit/lib/python3.7/site-packages/keras/optimizer_v2/adam.py:105: UserWarning: The `lr` argument is deprecated, use `learning_rate` instead.\n",
      "  super(Adam, self).__init__(name, **kwargs)\n"
     ]
    }
   ],
   "source": [
    "import miscnn\n",
    "from miscnn.neural_network.architecture.unet.standard import Architecture\n",
    "\n",
    "# Create a Preprocessor instance to configure how to preprocess the data into batches\n",
    "pp = miscnn.Preprocessor(data_io, batch_size=10, analysis=\"fullimage\", use_multiprocessing=False)\n",
    "\n",
    "# Create a deep learning neural network model with a standard U-Net architecture\n",
    "unet_standard = Architecture()\n",
    "model = miscnn.Neural_Network(preprocessor=pp, architecture=unet_standard)"
   ]
  },
  {
   "cell_type": "code",
   "execution_count": 11,
   "metadata": {},
   "outputs": [
    {
     "name": "stdout",
     "output_type": "stream",
     "text": [
      "Model: \"model\"\n",
      "__________________________________________________________________________________________________\n",
      " Layer (type)                   Output Shape         Param #     Connected to                     \n",
      "==================================================================================================\n",
      " input_1 (InputLayer)           [(None, None, None,  0           []                               \n",
      "                                 None, 1)]                                                        \n",
      "                                                                                                  \n",
      " conv3d (Conv3D)                (None, None, None,   896         ['input_1[0][0]']                \n",
      "                                None, 32)                                                         \n",
      "                                                                                                  \n",
      " batch_normalization (BatchNorm  (None, None, None,   128        ['conv3d[0][0]']                 \n",
      " alization)                     None, 32)                                                         \n",
      "                                                                                                  \n",
      " conv3d_1 (Conv3D)              (None, None, None,   27680       ['batch_normalization[0][0]']    \n",
      "                                None, 32)                                                         \n",
      "                                                                                                  \n",
      " batch_normalization_1 (BatchNo  (None, None, None,   128        ['conv3d_1[0][0]']               \n",
      " rmalization)                   None, 32)                                                         \n",
      "                                                                                                  \n",
      " max_pooling3d (MaxPooling3D)   (None, None, None,   0           ['batch_normalization_1[0][0]']  \n",
      "                                None, 32)                                                         \n",
      "                                                                                                  \n",
      " conv3d_2 (Conv3D)              (None, None, None,   55360       ['max_pooling3d[0][0]']          \n",
      "                                None, 64)                                                         \n",
      "                                                                                                  \n",
      " batch_normalization_2 (BatchNo  (None, None, None,   256        ['conv3d_2[0][0]']               \n",
      " rmalization)                   None, 64)                                                         \n",
      "                                                                                                  \n",
      " conv3d_3 (Conv3D)              (None, None, None,   110656      ['batch_normalization_2[0][0]']  \n",
      "                                None, 64)                                                         \n",
      "                                                                                                  \n",
      " batch_normalization_3 (BatchNo  (None, None, None,   256        ['conv3d_3[0][0]']               \n",
      " rmalization)                   None, 64)                                                         \n",
      "                                                                                                  \n",
      " max_pooling3d_1 (MaxPooling3D)  (None, None, None,   0          ['batch_normalization_3[0][0]']  \n",
      "                                None, 64)                                                         \n",
      "                                                                                                  \n",
      " conv3d_4 (Conv3D)              (None, None, None,   221312      ['max_pooling3d_1[0][0]']        \n",
      "                                None, 128)                                                        \n",
      "                                                                                                  \n",
      " batch_normalization_4 (BatchNo  (None, None, None,   512        ['conv3d_4[0][0]']               \n",
      " rmalization)                   None, 128)                                                        \n",
      "                                                                                                  \n",
      " conv3d_5 (Conv3D)              (None, None, None,   442496      ['batch_normalization_4[0][0]']  \n",
      "                                None, 128)                                                        \n",
      "                                                                                                  \n",
      " batch_normalization_5 (BatchNo  (None, None, None,   512        ['conv3d_5[0][0]']               \n",
      " rmalization)                   None, 128)                                                        \n",
      "                                                                                                  \n",
      " max_pooling3d_2 (MaxPooling3D)  (None, None, None,   0          ['batch_normalization_5[0][0]']  \n",
      "                                None, 128)                                                        \n",
      "                                                                                                  \n",
      " conv3d_6 (Conv3D)              (None, None, None,   884992      ['max_pooling3d_2[0][0]']        \n",
      "                                None, 256)                                                        \n",
      "                                                                                                  \n",
      " batch_normalization_6 (BatchNo  (None, None, None,   1024       ['conv3d_6[0][0]']               \n",
      " rmalization)                   None, 256)                                                        \n",
      "                                                                                                  \n",
      " conv3d_7 (Conv3D)              (None, None, None,   1769728     ['batch_normalization_6[0][0]']  \n",
      "                                None, 256)                                                        \n",
      "                                                                                                  \n",
      " batch_normalization_7 (BatchNo  (None, None, None,   1024       ['conv3d_7[0][0]']               \n",
      " rmalization)                   None, 256)                                                        \n",
      "                                                                                                  \n",
      " max_pooling3d_3 (MaxPooling3D)  (None, None, None,   0          ['batch_normalization_7[0][0]']  \n",
      "                                None, 256)                                                        \n",
      "                                                                                                  \n",
      " conv3d_8 (Conv3D)              (None, None, None,   3539456     ['max_pooling3d_3[0][0]']        \n",
      "                                None, 512)                                                        \n",
      "                                                                                                  \n",
      " batch_normalization_8 (BatchNo  (None, None, None,   2048       ['conv3d_8[0][0]']               \n",
      " rmalization)                   None, 512)                                                        \n",
      "                                                                                                  \n",
      " conv3d_9 (Conv3D)              (None, None, None,   7078400     ['batch_normalization_8[0][0]']  \n",
      "                                None, 512)                                                        \n",
      "                                                                                                  \n",
      " batch_normalization_9 (BatchNo  (None, None, None,   2048       ['conv3d_9[0][0]']               \n",
      " rmalization)                   None, 512)                                                        \n",
      "                                                                                                  \n",
      " conv3d_transpose (Conv3DTransp  (None, None, None,   1048832    ['batch_normalization_9[0][0]']  \n",
      " ose)                           None, 256)                                                        \n",
      "                                                                                                  \n",
      " concatenate (Concatenate)      (None, None, None,   0           ['conv3d_transpose[0][0]',       \n",
      "                                None, 512)                        'batch_normalization_7[0][0]']  \n",
      "                                                                                                  \n",
      " conv3d_10 (Conv3D)             (None, None, None,   3539200     ['concatenate[0][0]']            \n",
      "                                None, 256)                                                        \n",
      "                                                                                                  \n",
      " batch_normalization_10 (BatchN  (None, None, None,   1024       ['conv3d_10[0][0]']              \n",
      " ormalization)                  None, 256)                                                        \n",
      "                                                                                                  \n",
      " conv3d_11 (Conv3D)             (None, None, None,   1769728     ['batch_normalization_10[0][0]'] \n",
      "                                None, 256)                                                        \n",
      "                                                                                                  \n",
      " batch_normalization_11 (BatchN  (None, None, None,   1024       ['conv3d_11[0][0]']              \n",
      " ormalization)                  None, 256)                                                        \n",
      "                                                                                                  \n",
      " conv3d_transpose_1 (Conv3DTran  (None, None, None,   262272     ['batch_normalization_11[0][0]'] \n",
      " spose)                         None, 128)                                                        \n",
      "                                                                                                  \n",
      " concatenate_1 (Concatenate)    (None, None, None,   0           ['conv3d_transpose_1[0][0]',     \n",
      "                                None, 256)                        'batch_normalization_5[0][0]']  \n",
      "                                                                                                  \n",
      " conv3d_12 (Conv3D)             (None, None, None,   884864      ['concatenate_1[0][0]']          \n",
      "                                None, 128)                                                        \n",
      "                                                                                                  \n",
      " batch_normalization_12 (BatchN  (None, None, None,   512        ['conv3d_12[0][0]']              \n",
      " ormalization)                  None, 128)                                                        \n",
      "                                                                                                  \n",
      " conv3d_13 (Conv3D)             (None, None, None,   442496      ['batch_normalization_12[0][0]'] \n",
      "                                None, 128)                                                        \n",
      "                                                                                                  \n",
      " batch_normalization_13 (BatchN  (None, None, None,   512        ['conv3d_13[0][0]']              \n",
      " ormalization)                  None, 128)                                                        \n",
      "                                                                                                  \n",
      " conv3d_transpose_2 (Conv3DTran  (None, None, None,   65600      ['batch_normalization_13[0][0]'] \n",
      " spose)                         None, 64)                                                         \n",
      "                                                                                                  \n",
      " concatenate_2 (Concatenate)    (None, None, None,   0           ['conv3d_transpose_2[0][0]',     \n",
      "                                None, 128)                        'batch_normalization_3[0][0]']  \n",
      "                                                                                                  \n",
      " conv3d_14 (Conv3D)             (None, None, None,   221248      ['concatenate_2[0][0]']          \n",
      "                                None, 64)                                                         \n",
      "                                                                                                  \n",
      " batch_normalization_14 (BatchN  (None, None, None,   256        ['conv3d_14[0][0]']              \n",
      " ormalization)                  None, 64)                                                         \n",
      "                                                                                                  \n",
      " conv3d_15 (Conv3D)             (None, None, None,   110656      ['batch_normalization_14[0][0]'] \n",
      "                                None, 64)                                                         \n",
      "                                                                                                  \n",
      " batch_normalization_15 (BatchN  (None, None, None,   256        ['conv3d_15[0][0]']              \n",
      " ormalization)                  None, 64)                                                         \n",
      "                                                                                                  \n",
      " conv3d_transpose_3 (Conv3DTran  (None, None, None,   16416      ['batch_normalization_15[0][0]'] \n",
      " spose)                         None, 32)                                                         \n",
      "                                                                                                  \n",
      " concatenate_3 (Concatenate)    (None, None, None,   0           ['conv3d_transpose_3[0][0]',     \n",
      "                                None, 64)                         'batch_normalization_1[0][0]']  \n",
      "                                                                                                  \n",
      " conv3d_16 (Conv3D)             (None, None, None,   55328       ['concatenate_3[0][0]']          \n",
      "                                None, 32)                                                         \n",
      "                                                                                                  \n",
      " batch_normalization_16 (BatchN  (None, None, None,   128        ['conv3d_16[0][0]']              \n",
      " ormalization)                  None, 32)                                                         \n",
      "                                                                                                  \n",
      " conv3d_17 (Conv3D)             (None, None, None,   27680       ['batch_normalization_16[0][0]'] \n",
      "                                None, 32)                                                         \n",
      "                                                                                                  \n",
      " batch_normalization_17 (BatchN  (None, None, None,   128        ['conv3d_17[0][0]']              \n",
      " ormalization)                  None, 32)                                                         \n",
      "                                                                                                  \n",
      " conv3d_18 (Conv3D)             (None, None, None,   66          ['batch_normalization_17[0][0]'] \n",
      "                                None, 2)                                                          \n",
      "                                                                                                  \n",
      "==================================================================================================\n",
      "Total params: 22,587,138\n",
      "Trainable params: 22,581,250\n",
      "Non-trainable params: 5,888\n",
      "__________________________________________________________________________________________________\n"
     ]
    }
   ],
   "source": [
    "model.model.summary()"
   ]
  },
  {
   "cell_type": "code",
   "execution_count": 12,
   "metadata": {},
   "outputs": [
    {
     "ename": "",
     "evalue": "",
     "output_type": "error",
     "traceback": [
      "\u001b[1;31mCannot execute code, session has been disposed. Please try restarting the Kernel."
     ]
    },
    {
     "ename": "",
     "evalue": "",
     "output_type": "error",
     "traceback": [
      "\u001b[1;31mThe Kernel crashed while executing code in the the current cell or a previous cell. Please review the code in the cell(s) to identify a possible cause of the failure. Click <a href='https://aka.ms/vscodeJupyterKernelCrash'>here</a> for more info. View Jupyter <a href='command:jupyter.viewOutput'>log</a> for further details."
     ]
    }
   ],
   "source": [
    "# Training the model with 400 samples for 100 epochs\n",
    "sample_list = data_io.get_indiceslist()\n",
    "model.train(sample_list[0:20], epochs=1)"
   ]
  },
  {
   "cell_type": "code",
   "execution_count": null,
   "metadata": {},
   "outputs": [],
   "source": [
    "# Predict the segmentation for 20 samples\n",
    "pred = model.predict(sample_list[400:500], return_output=True)"
   ]
  }
 ],
 "metadata": {
  "kernelspec": {
   "display_name": "masterarbeit",
   "language": "python",
   "name": "python3"
  },
  "language_info": {
   "codemirror_mode": {
    "name": "ipython",
    "version": 3
   },
   "file_extension": ".py",
   "mimetype": "text/x-python",
   "name": "python",
   "nbconvert_exporter": "python",
   "pygments_lexer": "ipython3",
   "version": "3.7.16"
  },
  "orig_nbformat": 4
 },
 "nbformat": 4,
 "nbformat_minor": 2
}
