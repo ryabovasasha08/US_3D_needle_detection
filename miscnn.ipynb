{
 "cells": [
  {
   "cell_type": "markdown",
   "metadata": {},
   "source": [
    "## Create I/O Data"
   ]
  },
  {
   "cell_type": "code",
   "execution_count": null,
   "metadata": {},
   "outputs": [],
   "source": [
    "from utils.labels_utils import get_all_files_mhd\n",
    "all_files_mhd = get_all_files_mhd()\n",
    "len(all_files_mhd)"
   ]
  },
  {
   "cell_type": "code",
   "execution_count": 8,
   "metadata": {},
   "outputs": [
    {
     "name": "stdout",
     "output_type": "stream",
     "text": [
      "File 0...\n",
      "File 20...\n",
      "File 40...\n",
      "File 60...\n",
      "File 80...\n",
      "File 100...\n",
      "File 120...\n",
      "File 140...\n",
      "File 160...\n",
      "File 180...\n",
      "File 200...\n",
      "File 220...\n",
      "File 240...\n",
      "File 260...\n",
      "File 280...\n"
     ]
    }
   ],
   "source": [
    "from utils.type_reader import mha_read_header\n",
    "from utils.labels_utils import get_labels\n",
    "import numpy as np\n",
    "from tqdm import tqdm\n",
    "\n",
    "# merge all images in one huge array\n",
    "\n",
    "all_frames_filenames_array = np.empty((1))\n",
    "frame_nums = np.empty((1))\n",
    "labels = np.empty((1, 3))\n",
    "i = 0\n",
    "for f in all_files_mhd:\n",
    "    if (i%20 == 0):\n",
    "        print(\"File \"+str(i)+\"...\")\n",
    "    info = mha_read_header(f)\n",
    "    labels = np.concatenate((labels, get_labels(f, info)), axis = 0)\n",
    "    all_frames_filenames_array = np.concatenate((all_frames_filenames_array, [f]*info['Dimensions'][3]), axis=0)\n",
    "    frame_nums = np.concatenate((frame_nums, np.arange(0, info['Dimensions'][3])), axis=0)\n",
    "    i+=1\n",
    "    \n",
    "all_frames_filenames_array = all_frames_filenames_array[ 1:]\n",
    "labels = labels[1:, :]\n",
    "frame_nums = frame_nums[1:]"
   ]
  },
  {
   "cell_type": "code",
   "execution_count": 9,
   "metadata": {},
   "outputs": [
    {
     "name": "stdout",
     "output_type": "stream",
     "text": [
      "['/data/Riabova/train3/0_22_5_0_0_0_3_1_1686308127391259.mhd' '0.0']\n",
      "[ 91.57465921  94.48928267 106.19458738]\n"
     ]
    }
   ],
   "source": [
    "X = np.vstack((all_frames_filenames_array, frame_nums)).transpose()\n",
    "y = labels\n",
    "print(X[0, :])\n",
    "print(y[0, :])"
   ]
  },
  {
   "cell_type": "code",
   "execution_count": 12,
   "metadata": {},
   "outputs": [
    {
     "data": {
      "text/plain": [
       "17717"
      ]
     },
     "execution_count": 12,
     "metadata": {},
     "output_type": "execute_result"
    }
   ],
   "source": [
    "y.shape[0]"
   ]
  },
  {
   "cell_type": "code",
   "execution_count": 10,
   "metadata": {},
   "outputs": [],
   "source": [
    "from miscnn.data_loading.interfaces import Dictionary_interface\n",
    "from utils.ImageDataset import getDatapointResized\n",
    "from miscnn import Data_IO\n",
    "import numpy as np\n",
    "\n",
    "# Create 2D testing data set (grayscale image with binary mask)\n",
    "dataset3D = dict()\n",
    "for i in range(500): # range(0, y.shape[0]):\n",
    "    img, mask, us_tip_coords_resized = getDatapointResized(X[i, 0], X[i, 1], y[i], mask_diam=3, resizeTo=128)\n",
    "    dataset3D[\"TEST.sample_\" + str(i)] = (img, mask)\n",
    "    \n",
    "# Initialize Dictionary IO Interface\n",
    "io_interface3D = Dictionary_interface(dataset3D, channels = 1, classes=2, three_dim=True)\n",
    "\n",
    "# Create the Data I/O object\n",
    "data_io = Data_IO(io_interface3D, input_path=\"\")"
   ]
  }
 ],
 "metadata": {
  "kernelspec": {
   "display_name": "masterarbeit",
   "language": "python",
   "name": "python3"
  },
  "language_info": {
   "codemirror_mode": {
    "name": "ipython",
    "version": 3
   },
   "file_extension": ".py",
   "mimetype": "text/x-python",
   "name": "python",
   "nbconvert_exporter": "python",
   "pygments_lexer": "ipython3",
   "version": "3.7.16"
  },
  "orig_nbformat": 4
 },
 "nbformat": 4,
 "nbformat_minor": 2
}
