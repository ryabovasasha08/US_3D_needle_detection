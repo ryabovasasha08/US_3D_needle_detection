{
 "cells": [
  {
   "attachments": {},
   "cell_type": "markdown",
   "metadata": {},
   "source": [
    "<font size=\"2\"> To install new library (since everything is running on kernel python3.10): \n",
    "/$ python3.10 -m pip install *pandas*\n",
    "</font>"
   ]
  },
  {
   "cell_type": "code",
   "execution_count": null,
   "metadata": {},
   "outputs": [],
   "source": [
    "# import all files from necessary directory\n",
    "from os import listdir\n",
    "import os\n",
    "from os.path import isfile, join\n",
    "dir = \"/data/Riabova/train3\"\n",
    "all_files = [join(dir, f) for f in listdir(dir)]\n",
    "all_files_mhd = [string for string in all_files if string.endswith(\"mhd\")]\n",
    "len(all_files_mhd)"
   ]
  },
  {
   "cell_type": "code",
   "execution_count": null,
   "metadata": {},
   "outputs": [],
   "source": [
    "import numpy as np\n",
    "\n",
    "''' \n",
    "Example usage:\n",
    "    coords_1 = [x1, x2, x3]  # Replace x1, x2, x3 with the actual values\n",
    "    method = \"hex2us\"  # Or \"us2hex\"\n",
    "    isShifted = True  # Or False\n",
    "    coords_2 = transformTo(coords_1, method, isShifted) \n",
    "\n",
    "'''\n",
    "\n",
    "def transformTo(coords_1, method, isShifted):\n",
    "    # Transformation matrices\n",
    "    T_needle_tip = np.array([[-0.1601, 3.1823, 0.1383, 13.8778],\n",
    "                            [0.0178, 0.0806, -3.3695, 112.5630],\n",
    "                            [-2.4504, -0.1146, -0.3139, 110.3655],\n",
    "                            [-0.0000, -0.0000, -0.0000, 1.0000]])\n",
    "\n",
    "    T_needle_tip_shifted = np.array([[-0.1601, 3.1823, 0.1383, 20.8778],\n",
    "                                     [0.0178, 0.0806, -3.3695, 109.5630],\n",
    "                                     [-2.4504, -0.1146, -0.3139, 110.3655],\n",
    "                                     [-0.0000, -0.0000, -0.0000, 1.0000]])\n",
    "\n",
    "    if isShifted:\n",
    "        T = T_needle_tip_shifted\n",
    "    else:\n",
    "        T = T_needle_tip\n",
    "\n",
    "    coords_1 = np.append(coords_1, 1)  # Add 1 to coords_1\n",
    "\n",
    "    if method == \"hex2us\":\n",
    "        coords_2 = np.dot(T, coords_1.T)\n",
    "    else:\n",
    "        coords_2 = np.linalg.solve(T, coords_1.T)  # Equivalent to inv(T) * coords_1.T\n",
    "\n",
    "    coords_2 = coords_2.T\n",
    "    coords_2 = coords_2[:-1]\n",
    "\n",
    "    return coords_2\n",
    "\n",
    "\n",
    "def transformToUS(coords_1):\n",
    "    return transformTo(coords_1, \"hex2us\", True)"
   ]
  },
  {
   "cell_type": "code",
   "execution_count": null,
   "metadata": {},
   "outputs": [],
   "source": [
    "import numpy as np\n",
    "\n",
    "def get_labels(f, info):\n",
    "    \n",
    "    labels = np.zeros((info['Dimensions'][3], 3))\n",
    "        \n",
    "    for frame in range(0, info['Dimensions'][3]):\n",
    "        if frame > 9:\n",
    "            info_frame_timestamp_field = \"Seq_Frame00\" + str(frame) + \"_Timestamp\"\n",
    "        else:\n",
    "            info_frame_timestamp_field = \"Seq_Frame000\" + str(frame) + \"_Timestamp\"\n",
    "            \n",
    "        frame_timestamp = float(info[info_frame_timestamp_field])\n",
    "        \n",
    "        # filename in format 'x_y_z_alpha_beta_gamma_velocity_axis_timestamp\n",
    "        filename = f.split(\"/\")[-1].split(\".\")[0] # 0_22_5_0_0_0_3_1_1686308127391259\n",
    "        frame_timestamp_micros = frame_timestamp*1000000 #in microseconds, correct\n",
    "        \n",
    "         # extract params from filename\n",
    "        filename_params = filename.split('_')\n",
    "        start_timestamp_micros = float(filename_params[-1]) # in micros\n",
    "        axis = int(filename_params[-2])\n",
    "        velocity = int(filename_params[-3])  # in mm/s\n",
    "\n",
    "        # get tip coords in hexapode system\n",
    "        dt = frame_timestamp_micros - start_timestamp_micros  # in micros\n",
    "        distance = velocity * dt / 1000000  # in mm\n",
    "        hex_coords = [0, 0, 0]\n",
    "        for i in range(3):\n",
    "            hex_coords[i] = float(filename_params[i])\n",
    "            if axis == i+1:\n",
    "                hex_coords[i] += distance\n",
    "                        \n",
    "        # get tip coords in US system\n",
    "        labels[frame, :] = transformToUS(hex_coords)\n",
    "        \n",
    "    return labels"
   ]
  },
  {
   "cell_type": "code",
   "execution_count": null,
   "metadata": {},
   "outputs": [],
   "source": [
    "from utils.type_reader import mha_read_header\n",
    "import numpy as np\n",
    "from tqdm import tqdm\n",
    "\n",
    "# merge all images in one huge array\n",
    "\n",
    "all_frames_filenames_array = np.empty((1))\n",
    "frame_nums = np.empty((1))\n",
    "labels = np.empty((1, 3))\n",
    "i = 0\n",
    "for f in all_files_mhd:\n",
    "    if (i%20 == 0):\n",
    "        print(\"File \"+str(i)+\"...\")\n",
    "    info = mha_read_header(f)\n",
    "    labels = np.concatenate((labels, get_labels(f, info)), axis = 0)\n",
    "    all_frames_filenames_array = np.concatenate((all_frames_filenames_array, [f]*info['Dimensions'][3]), axis=0)\n",
    "    frame_nums = np.concatenate((frame_nums, np.arange(0, info['Dimensions'][3])), axis=0)\n",
    "    i+=1\n",
    "    \n",
    "all_frames_filenames_array = all_frames_filenames_array[ 1:]\n",
    "labels = labels[1:, :]\n",
    "frame_nums = frame_nums[1:]"
   ]
  },
  {
   "cell_type": "code",
   "execution_count": null,
   "metadata": {},
   "outputs": [],
   "source": [
    "from PIL import Image\n",
    "import matplotlib.pyplot as plt\n",
    "from PIL import Image\n",
    "from utils.type_reader import get_image_array\n",
    "\n",
    "#Check that frames are being displayed correctly\n",
    "input_image = get_image_array(all_files_mhd[0])\n",
    "plt.imshow(input_image[:, :, 69, 3])"
   ]
  },
  {
   "cell_type": "code",
   "execution_count": null,
   "metadata": {},
   "outputs": [],
   "source": [
    "X = np.vstack((all_frames_filenames_array, frame_nums)).transpose()\n",
    "y = labels\n",
    "print(X.shape)\n",
    "print(X[0, :])\n",
    "print(y[0, :])"
   ]
  },
  {
   "attachments": {},
   "cell_type": "markdown",
   "metadata": {},
   "source": [
    "<font size=\"4\">Setting parameters:</font>"
   ]
  },
  {
   "cell_type": "code",
   "execution_count": null,
   "metadata": {},
   "outputs": [],
   "source": [
    "SPLIT_PERCENT = 0.2\n",
    "IMG_SIZE = 135\n",
    "EPOCHS = 20\n",
    "BATCH_TRAIN = 5\n",
    "BATCH_VALID = 5"
   ]
  },
  {
   "cell_type": "code",
   "execution_count": null,
   "metadata": {},
   "outputs": [],
   "source": [
    "from sklearn.model_selection import train_test_split\n",
    "\n",
    "X_train, X_valid, y_train, y_valid = train_test_split(X, y, test_size=SPLIT_PERCENT, random_state=42,shuffle=True)"
   ]
  },
  {
   "cell_type": "code",
   "execution_count": null,
   "metadata": {},
   "outputs": [],
   "source": [
    "from utils.datasets import ImageDataset\n",
    "import torch\n",
    "train_dataset = ImageDataset(X_train,y_train)\n",
    "valid_dataset = ImageDataset(X_valid,y_valid)\n",
    "train_dataloader = torch.utils.data.DataLoader(train_dataset,batch_size=BATCH_TRAIN,shuffle=True)\n",
    "valid_dataloader = torch.utils.data.DataLoader(valid_dataset,batch_size=BATCH_VALID,shuffle=True)"
   ]
  },
  {
   "cell_type": "code",
   "execution_count": null,
   "metadata": {},
   "outputs": [],
   "source": [
    "from utils.display_utils import show_sample\n",
    "\n",
    "show_sample(train_dataset[0])"
   ]
  },
  {
   "cell_type": "code",
   "execution_count": null,
   "metadata": {},
   "outputs": [],
   "source": [
    "####################\n",
    "#TODO: develop torch model and fit it\n",
    "####################"
   ]
  }
 ],
 "metadata": {
  "language_info": {
   "name": "python"
  },
  "orig_nbformat": 4
 },
 "nbformat": 4,
 "nbformat_minor": 2
}
