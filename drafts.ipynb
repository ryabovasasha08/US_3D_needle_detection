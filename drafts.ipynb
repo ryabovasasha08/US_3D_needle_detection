{
 "cells": [
  {
   "cell_type": "markdown",
   "metadata": {},
   "source": [
    "### This file is a playground for developing some functions and checking them before putting them in the .py files"
   ]
  },
  {
   "cell_type": "markdown",
   "metadata": {},
   "source": [
    "##### Develop function to get a 3d-patch around some pixel and get its class from the needle mask h5 file"
   ]
  },
  {
   "cell_type": "code",
   "execution_count": 3,
   "metadata": {},
   "outputs": [
    {
     "data": {
      "text/plain": [
       "110"
      ]
     },
     "execution_count": 3,
     "metadata": {},
     "output_type": "execute_result"
    }
   ],
   "source": [
    "# import all files from necessary directory\n",
    "from utils.labels_utils import get_all_files_mhd\n",
    "all_files_mhd = get_all_files_mhd(\"/data/Riabova/train/train_depth_0_70/\")\n",
    "len(all_files_mhd)"
   ]
  },
  {
   "cell_type": "code",
   "execution_count": 4,
   "metadata": {},
   "outputs": [
    {
     "name": "stderr",
     "output_type": "stream",
     "text": [
      "100%|██████████| 12977875/12977875 [01:56<00:00, 111706.94it/s]\n",
      "100%|██████████| 12977875/12977875 [01:57<00:00, 110439.45it/s]\n",
      "100%|██████████| 12977875/12977875 [01:59<00:00, 108505.28it/s]\n",
      "100%|██████████| 12977875/12977875 [02:03<00:00, 105029.46it/s]\n",
      "100%|██████████| 12977875/12977875 [02:05<00:00, 103800.96it/s]\n",
      "100%|██████████| 12977875/12977875 [02:07<00:00, 101569.57it/s]\n",
      " 43%|████▎     | 5576692/12977875 [01:28<01:55, 63953.42it/s]"
     ]
    }
   ],
   "source": [
    "from tqdm import tqdm\n",
    "import h5py\n",
    "from utils.type_reader import get_image_array, mha_read_header\n",
    "from utils.mask_utils import get_needle_mask_of_frame_sequence\n",
    "from utils.labels_utils import get_labels\n",
    "import numpy as np\n",
    "\n",
    "filename = all_files_mhd[0]\n",
    "f = filename[:-4].split(\"/\")[-1]\n",
    "new_file = h5py.File('../train/needle_masks_h5/'+f+'.hdf5', 'w')\n",
    "sequence_4d = get_image_array(filename)\n",
    "info = mha_read_header(filename)\n",
    "labels = get_labels(f, info)\n",
    "needle_mask_sequence = get_needle_mask_of_frame_sequence(sequence_4d, labels)\n",
    "new_file.create_dataset(\"default\", data=np.transpose(needle_mask_sequence,(3, 0, 1, 2)))\n",
    "new_file.close()"
   ]
  },
  {
   "cell_type": "code",
   "execution_count": null,
   "metadata": {},
   "outputs": [],
   "source": [
    "# create and return 3 2d-patches around some pixel\n",
    "# patch size has to be 1)odd to make the pixel in question to be exactly in the center, 2) divisible by number of layers of network\n",
    "def get_2d_patches(filename, frame_num, pixel_coords, patch_size=21):\n",
    "    f = filename[:-4].split(\"/\")[-1]\n",
    "    h5_file = h5py.File('../train/trainh5/'+f+'.hdf5', 'r')\n",
    "    input_image = h5_file['default'][frame_num]\n",
    "    h5_file.close()\n",
    "    patch_xy = input_image[(pixel_coords[0]-(patch_size-1)/2):(pixel_coords[0]+(patch_size-1)/2), (pixel_coords[1]-(patch_size-1)/2):(pixel_coords[1]+(patch_size-1)/2), pixel_coords[2]]\n",
    "    patch_yz = input_image[pixel_coords[0], (pixel_coords[1]-(patch_size-1)/2):(pixel_coords[1]+(patch_size-1)/2), (pixel_coords[2]-(patch_size-1)/2):(pixel_coords[2]+(patch_size-1)/2)]\n",
    "    patch_xz = input_image[(pixel_coords[0]-(patch_size-1)/2):(pixel_coords[0]+(patch_size-1)/2), pixel_coords[1], (pixel_coords[2]-(patch_size-1)/2):(pixel_coords[2]+(patch_size-1)/2)]\n",
    "    return [patch_xy, patch_xz, patch_yz]"
   ]
  },
  {
   "cell_type": "code",
   "execution_count": null,
   "metadata": {},
   "outputs": [],
   "source": [
    "# define the class of the pixel (0 - not needle pixel, 1-needle pixel)\n",
    "def get_pixel_class(filename, frame_num, pixel_coords):\n",
    "    f = filename[:-4].split(\"/\")[-1]\n",
    "    needle_mask_h5_file = h5py.File('../train/needle_masks_h5/'+f+'.hdf5', 'r')\n",
    "    needle_mask = needle_mask_h5_file['default'][frame_num]\n",
    "    needle_mask_h5_file.close()\n",
    "    return needle_mask[pixel_coords]\n"
   ]
  }
 ],
 "metadata": {
  "kernelspec": {
   "display_name": "masterarbeit",
   "language": "python",
   "name": "python3"
  },
  "language_info": {
   "codemirror_mode": {
    "name": "ipython",
    "version": 3
   },
   "file_extension": ".py",
   "mimetype": "text/x-python",
   "name": "python",
   "nbconvert_exporter": "python",
   "pygments_lexer": "ipython3",
   "version": "3.7.16"
  },
  "orig_nbformat": 4
 },
 "nbformat": 4,
 "nbformat_minor": 2
}
